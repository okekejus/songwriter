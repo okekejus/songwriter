{
  "cells": [
    {
      "cell_type": "code",
      "execution_count": 1,
      "metadata": {
        "id": "fimzCgW0T92i"
      },
      "outputs": [],
      "source": [
        "import numpy as np # arrays, numerical ops\n",
        "import matplotlib.pyplot as plt # plotting stuff\n",
        "import seaborn as sns # also plotting stuff\n",
        "import tensorflow as tf # deep learning framework\n",
        "from keras.models import Sequential # tensorflow API - seq is linear layer stack\n",
        "from keras.layers import Dense, Activation, GRU # dense: fully connected layer, activ: activation function\n",
        "from keras.optimizers import RMSprop # optimizer, adjusts weights\n",
        "from keras.callbacks import LambdaCallback, ModelCheckpoint, ReduceLROnPlateau\n",
        "import random\n",
        "import sys\n",
        "import os\n",
        "import string\n",
        "import re"
      ]
    },
    {
      "cell_type": "code",
      "execution_count": 29,
      "metadata": {
        "id": "c5fgWlP_Cap6"
      },
      "outputs": [],
      "source": [
        "def preprocess_line(l):\n",
        "  if l == '--next song--':\n",
        "    l = l.replace('--next song--','<| next song |>') # changing separator between songs\n",
        "  else:\n",
        "      l = l.lower().strip() # all lowercse, remove leading + trailing characters from a string\n",
        "      l = re.sub(r'([?.!,])', r'\\1', l)\n",
        "      l = re.sub(r'[\" \"]+', ' ', l)\n",
        "      l = re.sub(r\"[^a-zA-Z0-9?.!,?ß()]\", ' ', l)\n",
        "      l = l.rstrip().strip()\n",
        "  l = ' ' + l + ' ' # perhaps also include a next line indicator\n",
        "  # removing everything but all characters in brackets, replacing with space (non english characters+ emojis messing up lyrics)\n",
        "  return l\n"
      ]
    },
    {
      "cell_type": "code",
      "execution_count": 30,
      "metadata": {
        "colab": {
          "base_uri": "https://localhost:8080/"
        },
        "id": "2mKvmAcqGVc0",
        "outputId": "ba4f90c5-67c3-440b-9432-5c8ef1441861"
      },
      "outputs": [
        {
          "data": {
            "text/plain": [
              "[' <| next song |> ',\n",
              " '  ',\n",
              " '  ',\n",
              " ' (sucker ass) i ain t got no motherfuckin  friends ',\n",
              " ' that s why i fucked yo  bitch, you fat motherfucker (take money) ',\n",
              " ' westside, bad boy killers (take money, you know) ',\n",
              " ' you know who the realest is, niggas (take money) ',\n",
              " ' we bring it too (that s aight, haha) ',\n",
              " ' (take money) haha ',\n",
              " ' first off, fuck your bitch and the clique you claim ']"
            ]
          },
          "execution_count": 30,
          "metadata": {},
          "output_type": "execute_result"
        }
      ],
      "source": [
        "with open('all_lyrics.txt', 'r') as f:\n",
        "  lyrics = f.read()\n",
        "  f.close()\n",
        "\n",
        "\n",
        "preprocessed_lyrics = [preprocess_line(l) for l in lyrics.split('\\n')]\n",
        "\n",
        "preprocessed_lyrics[:10]"
      ]
    },
    {
      "cell_type": "code",
      "execution_count": null,
      "metadata": {
        "id": "9_6Uel79IZ1l"
      },
      "outputs": [],
      "source": [
        "class MappingIndex():\n",
        "  def __init__(self):\n",
        "    self.word2idx = {}\n",
        "    self.idx2word = {}\n",
        "    self.vocab = set()\n",
        "\n",
        "    self.create_index()\n",
        "\n",
        "  def create_index(self):"
      ]
    }
  ],
  "metadata": {
    "colab": {
      "provenance": []
    },
    "kernelspec": {
      "display_name": "Python 3",
      "name": "python3"
    },
    "language_info": {
      "name": "python"
    }
  },
  "nbformat": 4,
  "nbformat_minor": 0
}
