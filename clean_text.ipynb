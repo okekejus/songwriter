{
 "cells": [
  {
   "cell_type": "code",
   "execution_count": null,
   "id": "ea00ed51",
   "metadata": {},
   "outputs": [],
   "source": [
    "# Next up the data needs to be cleaned - removal of the little annotations at the start of each song, as well as the song title. \n",
    "\n",
    "import re \n",
    "import os \n",
    "import glob"
   ]
  },
  {
   "cell_type": "code",
   "execution_count": null,
   "id": "1efcd272",
   "metadata": {},
   "outputs": [],
   "source": [
    "def clean_text(txt_file): \n",
    "    txt_file = re.sub(r\"\\[Song \\d+: .+\", '--next song--', txt_file)  # need some kind of separator for each song, I like this better \n",
    "    txt_file = re.sub(r'.+\\xa0', '',txt_file) # pesky space character \n",
    "    txt_file = re.sub(r'\\d+ Contributors.+', '', txt_file) # removal of the first line of text after song, beginning of annotations.\n",
    "    txt_file = re.sub(r'.+ ...Read More.+', '', txt_file) # removing the 'Read More' section of the annotations.\n",
    "    txt_file = re.sub(r'.+ ...Read More.+\\s ', '', txt_file)\n",
    "    txt_file = re.sub(r'.+ ...Read More\\s', '', txt_file)\n",
    "    txt_file = re.sub(r'\\[Verse \\d.+', '', txt_file) # sometimes these appear, will likely have to do so for Chorus\n",
    "    txt_file = re.sub(r'Verse-\\d', '', txt_file)  \n",
    "    txt_file = re.sub(r'Chorus', '', txt_file)  \n",
    "    txt_file = re.sub(r'Intro', '', txt_file)  \n",
    "    txt_file = re.sub(r'Outro', '', txt_file)  \n",
    "    return txt_file"
   ]
  },
  {
   "cell_type": "code",
   "execution_count": null,
   "id": "30e9d5e2",
   "metadata": {},
   "outputs": [],
   "source": [
    "files = glob.glob('data/lyrics/*.txt')\n",
    "box = []\n",
    "for file in files:\n",
    "    try: \n",
    "        with open(file, 'r', encoding='utf8') as f: \n",
    "            cleaned = clean_text(f.read())\n",
    "            box.append(cleaned)\n",
    "            print(f'{file} done.')\n",
    "    except Exception as e: \n",
    "        print(f'Error during processing of {file}')\n",
    "        print(e)\n",
    "        pass # skip loop"
   ]
  }
 ],
 "metadata": {
  "kernelspec": {
   "display_name": "data_analysis",
   "language": "python",
   "name": "python3"
  },
  "language_info": {
   "codemirror_mode": {
    "name": "ipython",
    "version": 3
   },
   "file_extension": ".py",
   "mimetype": "text/x-python",
   "name": "python",
   "nbconvert_exporter": "python",
   "pygments_lexer": "ipython3",
   "version": "3.13.2"
  }
 },
 "nbformat": 4,
 "nbformat_minor": 5
}
